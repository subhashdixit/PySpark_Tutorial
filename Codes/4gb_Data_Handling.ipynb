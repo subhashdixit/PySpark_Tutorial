{
 "cells": [
  {
   "cell_type": "markdown",
   "metadata": {},
   "source": [
    "### **Pyspark**\n",
    "- PySpark is the Python API for Apache Spark. It enables you to perform real-time, large-scale data processing in a distributed environment using Python. It also provides a PySpark shell for interactively analyzing your data.\n",
    "- PySpark combines Python’s learnability and ease of use with the power of Apache Spark to enable processing and analysis of data at any size for everyone familiar with Python.\n",
    "- PySpark supports all of Spark’s features such as Spark SQL, DataFrames, Structured Streaming, Machine Learning (MLlib) and Spark Core."
   ]
  },
  {
   "cell_type": "code",
   "execution_count": 1,
   "metadata": {},
   "outputs": [],
   "source": [
    "# Import the SparkSession module from PySpark\n",
    "from pyspark.sql import SparkSession\n",
    "\n",
    "# Create a SparkSession\n",
    "# A SparkSession is the entry point to using Spark functionality.\n",
    "# It configures Spark and sets up an environment for using Spark.\n",
    "# The `builder` object is used to configure various settings for Spark.\n",
    "# `appName` is used to set a name for your Spark application.\n",
    "# `getOrCreate()` tries to get an existing SparkSession or creates a new one if it doesn't exist.\n",
    "spark = SparkSession.builder.appName(\"4gb_Data_Handling!\").getOrCreate()\n",
    "\n",
    "# Now, you have a SparkSession named 'spark' that you can use for various Spark operations.\n"
   ]
  },
  {
   "cell_type": "code",
   "execution_count": 2,
   "metadata": {},
   "outputs": [
    {
     "data": {
      "text/html": [
       "\n",
       "            <div>\n",
       "                <p><b>SparkSession - in-memory</b></p>\n",
       "                \n",
       "        <div>\n",
       "            <p><b>SparkContext</b></p>\n",
       "\n",
       "            <p><a href=\"http://AAPL-L-857:4040\">Spark UI</a></p>\n",
       "\n",
       "            <dl>\n",
       "              <dt>Version</dt>\n",
       "                <dd><code>v3.4.1</code></dd>\n",
       "              <dt>Master</dt>\n",
       "                <dd><code>local[*]</code></dd>\n",
       "              <dt>AppName</dt>\n",
       "                <dd><code>4gb_Data_Handling!</code></dd>\n",
       "            </dl>\n",
       "        </div>\n",
       "        \n",
       "            </div>\n",
       "        "
      ],
      "text/plain": [
       "<pyspark.sql.session.SparkSession at 0x175189cfbe0>"
      ]
     },
     "execution_count": 2,
     "metadata": {},
     "output_type": "execute_result"
    }
   ],
   "source": [
    "spark"
   ]
  },
  {
   "cell_type": "markdown",
   "metadata": {},
   "source": [
    "**Read the dataset**"
   ]
  },
  {
   "cell_type": "code",
   "execution_count": 11,
   "metadata": {},
   "outputs": [],
   "source": [
    "raw_data = spark.read.options(delimiter=\"\\t\",header=True).csv(\"./Data/en.openfoodfacts.org.products.csv\")"
   ]
  },
  {
   "cell_type": "markdown",
   "metadata": {},
   "source": [
    "- The result is a pyspark.sql.dataframe variable. It is important to keep in mind that at this point the data is not actually loaded into the RAM memory. Data is only loaded when an action is called on the pyspark variable, an action that needs to return a computed value. If I ask for instance for a count of the number of products in the data set, Spark is smart enough not to try and load the whole 8 GB of data in order to compute this value (almost 2 million products)."
   ]
  },
  {
   "cell_type": "code",
   "execution_count": 12,
   "metadata": {},
   "outputs": [
    {
     "data": {
      "text/plain": [
       "2977334"
      ]
     },
     "execution_count": 12,
     "metadata": {},
     "output_type": "execute_result"
    }
   ],
   "source": [
    "raw_data.count()"
   ]
  },
  {
   "cell_type": "code",
   "execution_count": 13,
   "metadata": {},
   "outputs": [
    {
     "name": "stdout",
     "output_type": "stream",
     "text": [
      "root\n",
      " |-- code: string (nullable = true)\n",
      " |-- url: string (nullable = true)\n",
      " |-- creator: string (nullable = true)\n",
      " |-- created_t: string (nullable = true)\n",
      " |-- created_datetime: string (nullable = true)\n",
      " |-- last_modified_t: string (nullable = true)\n",
      " |-- last_modified_datetime: string (nullable = true)\n",
      " |-- last_modified_by: string (nullable = true)\n",
      " |-- product_name: string (nullable = true)\n",
      " |-- abbreviated_product_name: string (nullable = true)\n",
      " |-- generic_name: string (nullable = true)\n",
      " |-- quantity: string (nullable = true)\n",
      " |-- packaging: string (nullable = true)\n",
      " |-- packaging_tags: string (nullable = true)\n",
      " |-- packaging_en: string (nullable = true)\n",
      " |-- packaging_text: string (nullable = true)\n",
      " |-- brands: string (nullable = true)\n",
      " |-- brands_tags: string (nullable = true)\n",
      " |-- categories: string (nullable = true)\n",
      " |-- categories_tags: string (nullable = true)\n",
      " |-- categories_en: string (nullable = true)\n",
      " |-- origins: string (nullable = true)\n",
      " |-- origins_tags: string (nullable = true)\n",
      " |-- origins_en: string (nullable = true)\n",
      " |-- manufacturing_places: string (nullable = true)\n",
      " |-- manufacturing_places_tags: string (nullable = true)\n",
      " |-- labels: string (nullable = true)\n",
      " |-- labels_tags: string (nullable = true)\n",
      " |-- labels_en: string (nullable = true)\n",
      " |-- emb_codes: string (nullable = true)\n",
      " |-- emb_codes_tags: string (nullable = true)\n",
      " |-- first_packaging_code_geo: string (nullable = true)\n",
      " |-- cities: string (nullable = true)\n",
      " |-- cities_tags: string (nullable = true)\n",
      " |-- purchase_places: string (nullable = true)\n",
      " |-- stores: string (nullable = true)\n",
      " |-- countries: string (nullable = true)\n",
      " |-- countries_tags: string (nullable = true)\n",
      " |-- countries_en: string (nullable = true)\n",
      " |-- ingredients_text: string (nullable = true)\n",
      " |-- ingredients_tags: string (nullable = true)\n",
      " |-- ingredients_analysis_tags: string (nullable = true)\n",
      " |-- allergens: string (nullable = true)\n",
      " |-- allergens_en: string (nullable = true)\n",
      " |-- traces: string (nullable = true)\n",
      " |-- traces_tags: string (nullable = true)\n",
      " |-- traces_en: string (nullable = true)\n",
      " |-- serving_size: string (nullable = true)\n",
      " |-- serving_quantity: string (nullable = true)\n",
      " |-- no_nutrition_data: string (nullable = true)\n",
      " |-- additives_n: string (nullable = true)\n",
      " |-- additives: string (nullable = true)\n",
      " |-- additives_tags: string (nullable = true)\n",
      " |-- additives_en: string (nullable = true)\n",
      " |-- nutriscore_score: string (nullable = true)\n",
      " |-- nutriscore_grade: string (nullable = true)\n",
      " |-- nova_group: string (nullable = true)\n",
      " |-- pnns_groups_1: string (nullable = true)\n",
      " |-- pnns_groups_2: string (nullable = true)\n",
      " |-- food_groups: string (nullable = true)\n",
      " |-- food_groups_tags: string (nullable = true)\n",
      " |-- food_groups_en: string (nullable = true)\n",
      " |-- states: string (nullable = true)\n",
      " |-- states_tags: string (nullable = true)\n",
      " |-- states_en: string (nullable = true)\n",
      " |-- brand_owner: string (nullable = true)\n",
      " |-- ecoscore_score: string (nullable = true)\n",
      " |-- ecoscore_grade: string (nullable = true)\n",
      " |-- nutrient_levels_tags: string (nullable = true)\n",
      " |-- product_quantity: string (nullable = true)\n",
      " |-- owner: string (nullable = true)\n",
      " |-- data_quality_errors_tags: string (nullable = true)\n",
      " |-- unique_scans_n: string (nullable = true)\n",
      " |-- popularity_tags: string (nullable = true)\n",
      " |-- completeness: string (nullable = true)\n",
      " |-- last_image_t: string (nullable = true)\n",
      " |-- last_image_datetime: string (nullable = true)\n",
      " |-- main_category: string (nullable = true)\n",
      " |-- main_category_en: string (nullable = true)\n",
      " |-- image_url: string (nullable = true)\n",
      " |-- image_small_url: string (nullable = true)\n",
      " |-- image_ingredients_url: string (nullable = true)\n",
      " |-- image_ingredients_small_url: string (nullable = true)\n",
      " |-- image_nutrition_url: string (nullable = true)\n",
      " |-- image_nutrition_small_url: string (nullable = true)\n",
      " |-- energy-kj_100g: string (nullable = true)\n",
      " |-- energy-kcal_100g: string (nullable = true)\n",
      " |-- energy_100g: string (nullable = true)\n",
      " |-- energy-from-fat_100g: string (nullable = true)\n",
      " |-- fat_100g: string (nullable = true)\n",
      " |-- saturated-fat_100g: string (nullable = true)\n",
      " |-- butyric-acid_100g: string (nullable = true)\n",
      " |-- caproic-acid_100g: string (nullable = true)\n",
      " |-- caprylic-acid_100g: string (nullable = true)\n",
      " |-- capric-acid_100g: string (nullable = true)\n",
      " |-- lauric-acid_100g: string (nullable = true)\n",
      " |-- myristic-acid_100g: string (nullable = true)\n",
      " |-- palmitic-acid_100g: string (nullable = true)\n",
      " |-- stearic-acid_100g: string (nullable = true)\n",
      " |-- arachidic-acid_100g: string (nullable = true)\n",
      " |-- behenic-acid_100g: string (nullable = true)\n",
      " |-- lignoceric-acid_100g: string (nullable = true)\n",
      " |-- cerotic-acid_100g: string (nullable = true)\n",
      " |-- montanic-acid_100g: string (nullable = true)\n",
      " |-- melissic-acid_100g: string (nullable = true)\n",
      " |-- unsaturated-fat_100g: string (nullable = true)\n",
      " |-- monounsaturated-fat_100g: string (nullable = true)\n",
      " |-- polyunsaturated-fat_100g: string (nullable = true)\n",
      " |-- omega-3-fat_100g: string (nullable = true)\n",
      " |-- alpha-linolenic-acid_100g: string (nullable = true)\n",
      " |-- eicosapentaenoic-acid_100g: string (nullable = true)\n",
      " |-- docosahexaenoic-acid_100g: string (nullable = true)\n",
      " |-- omega-6-fat_100g: string (nullable = true)\n",
      " |-- linoleic-acid_100g: string (nullable = true)\n",
      " |-- arachidonic-acid_100g: string (nullable = true)\n",
      " |-- gamma-linolenic-acid_100g: string (nullable = true)\n",
      " |-- dihomo-gamma-linolenic-acid_100g: string (nullable = true)\n",
      " |-- omega-9-fat_100g: string (nullable = true)\n",
      " |-- oleic-acid_100g: string (nullable = true)\n",
      " |-- elaidic-acid_100g: string (nullable = true)\n",
      " |-- gondoic-acid_100g: string (nullable = true)\n",
      " |-- mead-acid_100g: string (nullable = true)\n",
      " |-- erucic-acid_100g: string (nullable = true)\n",
      " |-- nervonic-acid_100g: string (nullable = true)\n",
      " |-- trans-fat_100g: string (nullable = true)\n",
      " |-- cholesterol_100g: string (nullable = true)\n",
      " |-- carbohydrates_100g: string (nullable = true)\n",
      " |-- sugars_100g: string (nullable = true)\n",
      " |-- added-sugars_100g: string (nullable = true)\n",
      " |-- sucrose_100g: string (nullable = true)\n",
      " |-- glucose_100g: string (nullable = true)\n",
      " |-- fructose_100g: string (nullable = true)\n",
      " |-- lactose_100g: string (nullable = true)\n",
      " |-- maltose_100g: string (nullable = true)\n",
      " |-- maltodextrins_100g: string (nullable = true)\n",
      " |-- starch_100g: string (nullable = true)\n",
      " |-- polyols_100g: string (nullable = true)\n",
      " |-- erythritol_100g: string (nullable = true)\n",
      " |-- fiber_100g: string (nullable = true)\n",
      " |-- soluble-fiber_100g: string (nullable = true)\n",
      " |-- insoluble-fiber_100g: string (nullable = true)\n",
      " |-- proteins_100g: string (nullable = true)\n",
      " |-- casein_100g: string (nullable = true)\n",
      " |-- serum-proteins_100g: string (nullable = true)\n",
      " |-- nucleotides_100g: string (nullable = true)\n",
      " |-- salt_100g: string (nullable = true)\n",
      " |-- added-salt_100g: string (nullable = true)\n",
      " |-- sodium_100g: string (nullable = true)\n",
      " |-- alcohol_100g: string (nullable = true)\n",
      " |-- vitamin-a_100g: string (nullable = true)\n",
      " |-- beta-carotene_100g: string (nullable = true)\n",
      " |-- vitamin-d_100g: string (nullable = true)\n",
      " |-- vitamin-e_100g: string (nullable = true)\n",
      " |-- vitamin-k_100g: string (nullable = true)\n",
      " |-- vitamin-c_100g: string (nullable = true)\n",
      " |-- vitamin-b1_100g: string (nullable = true)\n",
      " |-- vitamin-b2_100g: string (nullable = true)\n",
      " |-- vitamin-pp_100g: string (nullable = true)\n",
      " |-- vitamin-b6_100g: string (nullable = true)\n",
      " |-- vitamin-b9_100g: string (nullable = true)\n",
      " |-- folates_100g: string (nullable = true)\n",
      " |-- vitamin-b12_100g: string (nullable = true)\n",
      " |-- biotin_100g: string (nullable = true)\n",
      " |-- pantothenic-acid_100g: string (nullable = true)\n",
      " |-- silica_100g: string (nullable = true)\n",
      " |-- bicarbonate_100g: string (nullable = true)\n",
      " |-- potassium_100g: string (nullable = true)\n",
      " |-- chloride_100g: string (nullable = true)\n",
      " |-- calcium_100g: string (nullable = true)\n",
      " |-- phosphorus_100g: string (nullable = true)\n",
      " |-- iron_100g: string (nullable = true)\n",
      " |-- magnesium_100g: string (nullable = true)\n",
      " |-- zinc_100g: string (nullable = true)\n",
      " |-- copper_100g: string (nullable = true)\n",
      " |-- manganese_100g: string (nullable = true)\n",
      " |-- fluoride_100g: string (nullable = true)\n",
      " |-- selenium_100g: string (nullable = true)\n",
      " |-- chromium_100g: string (nullable = true)\n",
      " |-- molybdenum_100g: string (nullable = true)\n",
      " |-- iodine_100g: string (nullable = true)\n",
      " |-- caffeine_100g: string (nullable = true)\n",
      " |-- taurine_100g: string (nullable = true)\n",
      " |-- ph_100g: string (nullable = true)\n",
      " |-- fruits-vegetables-nuts_100g: string (nullable = true)\n",
      " |-- fruits-vegetables-nuts-dried_100g: string (nullable = true)\n",
      " |-- fruits-vegetables-nuts-estimate_100g: string (nullable = true)\n",
      " |-- fruits-vegetables-nuts-estimate-from-ingredients_100g: string (nullable = true)\n",
      " |-- collagen-meat-protein-ratio_100g: string (nullable = true)\n",
      " |-- cocoa_100g: string (nullable = true)\n",
      " |-- chlorophyl_100g: string (nullable = true)\n",
      " |-- carbon-footprint_100g: string (nullable = true)\n",
      " |-- carbon-footprint-from-meat-or-fish_100g: string (nullable = true)\n",
      " |-- nutrition-score-fr_100g: string (nullable = true)\n",
      " |-- nutrition-score-uk_100g: string (nullable = true)\n",
      " |-- glycemic-index_100g: string (nullable = true)\n",
      " |-- water-hardness_100g: string (nullable = true)\n",
      " |-- choline_100g: string (nullable = true)\n",
      " |-- phylloquinone_100g: string (nullable = true)\n",
      " |-- beta-glucan_100g: string (nullable = true)\n",
      " |-- inositol_100g: string (nullable = true)\n",
      " |-- carnitine_100g: string (nullable = true)\n",
      " |-- sulphate_100g: string (nullable = true)\n",
      " |-- nitrate_100g: string (nullable = true)\n",
      "\n"
     ]
    }
   ],
   "source": [
    "raw_data.printSchema()"
   ]
  },
  {
   "cell_type": "code",
   "execution_count": 14,
   "metadata": {},
   "outputs": [],
   "source": [
    "from pyspark.sql.functions import col\n",
    "BDD_countries = raw_data.groupBy(\"countries_tags\").count().persist()"
   ]
  },
  {
   "cell_type": "code",
   "execution_count": 15,
   "metadata": {},
   "outputs": [
    {
     "name": "stdout",
     "output_type": "stream",
     "text": [
      "root\n",
      " |-- countries_tags: string (nullable = true)\n",
      " |-- count: long (nullable = false)\n",
      "\n"
     ]
    }
   ],
   "source": [
    "BDD_countries.printSchema()"
   ]
  },
  {
   "cell_type": "code",
   "execution_count": 16,
   "metadata": {},
   "outputs": [],
   "source": [
    "BDD_res = BDD_countries.filter(col(\"count\") > 5000).orderBy(\"count\",ascending = False).toPandas()"
   ]
  },
  {
   "cell_type": "code",
   "execution_count": 19,
   "metadata": {},
   "outputs": [
    {
     "data": {
      "text/plain": [
       "pandas.core.frame.DataFrame"
      ]
     },
     "execution_count": 19,
     "metadata": {},
     "output_type": "execute_result"
    }
   ],
   "source": [
    "type(BDD_res)"
   ]
  },
  {
   "cell_type": "markdown",
   "metadata": {},
   "source": [
    "- Now, we can do the EDA using pandas function"
   ]
  },
  {
   "cell_type": "code",
   "execution_count": null,
   "metadata": {},
   "outputs": [],
   "source": [
    "# The END"
   ]
  }
 ],
 "metadata": {
  "kernelspec": {
   "display_name": "Python 3",
   "language": "python",
   "name": "python3"
  },
  "language_info": {
   "codemirror_mode": {
    "name": "ipython",
    "version": 3
   },
   "file_extension": ".py",
   "mimetype": "text/x-python",
   "name": "python",
   "nbconvert_exporter": "python",
   "pygments_lexer": "ipython3",
   "version": "3.9.18"
  },
  "orig_nbformat": 4
 },
 "nbformat": 4,
 "nbformat_minor": 2
}
